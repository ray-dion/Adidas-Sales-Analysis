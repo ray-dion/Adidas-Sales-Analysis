{
 "cells": [
  {
   "cell_type": "markdown",
   "id": "dae0e87b",
   "metadata": {},
   "source": [
    "# I. Import"
   ]
  },
  {
   "cell_type": "code",
   "execution_count": 40,
   "id": "15ba6838",
   "metadata": {},
   "outputs": [],
   "source": [
    "# Import libraries\n",
    "\n",
    "import pandas as pd\n",
    "import great_expectations as ge\n",
    "from great_expectations.data_context import FileDataContext"
   ]
  },
  {
   "cell_type": "markdown",
   "id": "7f5f070a",
   "metadata": {},
   "source": [
    "# II. Create Data Context"
   ]
  },
  {
   "cell_type": "code",
   "execution_count": 41,
   "id": "55b5bf2a",
   "metadata": {},
   "outputs": [],
   "source": [
    "# Membuat data context\n",
    "\n",
    "context = FileDataContext.create(project_root_dir='./')"
   ]
  },
  {
   "cell_type": "markdown",
   "id": "9e673741",
   "metadata": {},
   "source": [
    "# III. Connect to Datasource"
   ]
  },
  {
   "cell_type": "code",
   "execution_count": 42,
   "id": "ce0b44b4",
   "metadata": {},
   "outputs": [],
   "source": [
    "# Give a name to a Datasource. This name must be unique between Datasources.\n",
    "datasource_name = 'csv-data-ray'\n",
    "datasource = context.sources.add_pandas(datasource_name)\n",
    "\n",
    "# Give a name to a data asset\n",
    "asset_name = 'ray-data-clean'\n",
    "path_to_data = './data/P2M3_Dionisius_Ray_data_clean.csv'  # Pastikan file ini ada di direktori proyek\n",
    "asset = datasource.add_csv_asset(asset_name, filepath_or_buffer=path_to_data)\n",
    "\n",
    "# Build batch request\n",
    "batch_request = asset.build_batch_request()"
   ]
  },
  {
   "cell_type": "markdown",
   "id": "f2e655b0",
   "metadata": {},
   "source": [
    "# IV. Expectations Suite"
   ]
  },
  {
   "cell_type": "code",
   "execution_count": 43,
   "id": "94173370",
   "metadata": {},
   "outputs": [
    {
     "data": {
      "application/vnd.jupyter.widget-view+json": {
       "model_id": "0b4d9d58d1aa4d288d730970bc2d6abf",
       "version_major": 2,
       "version_minor": 0
      },
      "text/plain": [
       "Calculating Metrics:   0%|          | 0/1 [00:00<?, ?it/s]"
      ]
     },
     "metadata": {},
     "output_type": "display_data"
    },
    {
     "data": {
      "text/html": [
       "<div>\n",
       "<style scoped>\n",
       "    .dataframe tbody tr th:only-of-type {\n",
       "        vertical-align: middle;\n",
       "    }\n",
       "\n",
       "    .dataframe tbody tr th {\n",
       "        vertical-align: top;\n",
       "    }\n",
       "\n",
       "    .dataframe thead th {\n",
       "        text-align: right;\n",
       "    }\n",
       "</style>\n",
       "<table border=\"1\" class=\"dataframe\">\n",
       "  <thead>\n",
       "    <tr style=\"text-align: right;\">\n",
       "      <th></th>\n",
       "      <th>retailer</th>\n",
       "      <th>retailer_id</th>\n",
       "      <th>invoice_date</th>\n",
       "      <th>region</th>\n",
       "      <th>state</th>\n",
       "      <th>city</th>\n",
       "      <th>product</th>\n",
       "      <th>price_per_unit</th>\n",
       "      <th>units_sold</th>\n",
       "      <th>total_sales</th>\n",
       "      <th>operating_profit</th>\n",
       "      <th>sales_method</th>\n",
       "      <th>unique_transaction_key</th>\n",
       "    </tr>\n",
       "  </thead>\n",
       "  <tbody>\n",
       "    <tr>\n",
       "      <th>0</th>\n",
       "      <td>Walmart</td>\n",
       "      <td>1128299</td>\n",
       "      <td>2021-06-17</td>\n",
       "      <td>Southeast</td>\n",
       "      <td>Florida</td>\n",
       "      <td>Orlando</td>\n",
       "      <td>Women's Apparel</td>\n",
       "      <td>103.0</td>\n",
       "      <td>218</td>\n",
       "      <td>2245</td>\n",
       "      <td>1257</td>\n",
       "      <td>Online</td>\n",
       "      <td>1128299_2021-06-17_Women's Apparel_Online_Orla...</td>\n",
       "    </tr>\n",
       "    <tr>\n",
       "      <th>1</th>\n",
       "      <td>West Gear</td>\n",
       "      <td>1128299</td>\n",
       "      <td>2021-07-16</td>\n",
       "      <td>South</td>\n",
       "      <td>Louisiana</td>\n",
       "      <td>New Orleans</td>\n",
       "      <td>Women's Apparel</td>\n",
       "      <td>103.0</td>\n",
       "      <td>163</td>\n",
       "      <td>1679</td>\n",
       "      <td>806</td>\n",
       "      <td>Online</td>\n",
       "      <td>1128299_2021-07-16_Women's Apparel_Online_New ...</td>\n",
       "    </tr>\n",
       "    <tr>\n",
       "      <th>2</th>\n",
       "      <td>Sports Direct</td>\n",
       "      <td>1197831</td>\n",
       "      <td>2021-08-25</td>\n",
       "      <td>South</td>\n",
       "      <td>Alabama</td>\n",
       "      <td>Birmingham</td>\n",
       "      <td>Men's Street Footwear</td>\n",
       "      <td>10.0</td>\n",
       "      <td>700</td>\n",
       "      <td>7000</td>\n",
       "      <td>3150</td>\n",
       "      <td>Outlet</td>\n",
       "      <td>1197831_2021-08-25_Men's Street Footwear_Outle...</td>\n",
       "    </tr>\n",
       "    <tr>\n",
       "      <th>3</th>\n",
       "      <td>Sports Direct</td>\n",
       "      <td>1197831</td>\n",
       "      <td>2021-08-27</td>\n",
       "      <td>South</td>\n",
       "      <td>Alabama</td>\n",
       "      <td>Birmingham</td>\n",
       "      <td>Women's Street Footwear</td>\n",
       "      <td>15.0</td>\n",
       "      <td>575</td>\n",
       "      <td>8625</td>\n",
       "      <td>3881</td>\n",
       "      <td>Outlet</td>\n",
       "      <td>1197831_2021-08-27_Women's Street Footwear_Out...</td>\n",
       "    </tr>\n",
       "    <tr>\n",
       "      <th>4</th>\n",
       "      <td>Sports Direct</td>\n",
       "      <td>1197831</td>\n",
       "      <td>2021-08-21</td>\n",
       "      <td>South</td>\n",
       "      <td>Alabama</td>\n",
       "      <td>Birmingham</td>\n",
       "      <td>Women's Street Footwear</td>\n",
       "      <td>15.0</td>\n",
       "      <td>475</td>\n",
       "      <td>7125</td>\n",
       "      <td>3206</td>\n",
       "      <td>Outlet</td>\n",
       "      <td>1197831_2021-08-21_Women's Street Footwear_Out...</td>\n",
       "    </tr>\n",
       "  </tbody>\n",
       "</table>\n",
       "</div>"
      ],
      "text/plain": [
       "        retailer  retailer_id invoice_date     region      state         city  \\\n",
       "0        Walmart      1128299   2021-06-17  Southeast    Florida      Orlando   \n",
       "1      West Gear      1128299   2021-07-16      South  Louisiana  New Orleans   \n",
       "2  Sports Direct      1197831   2021-08-25      South    Alabama   Birmingham   \n",
       "3  Sports Direct      1197831   2021-08-27      South    Alabama   Birmingham   \n",
       "4  Sports Direct      1197831   2021-08-21      South    Alabama   Birmingham   \n",
       "\n",
       "                   product  price_per_unit  units_sold  total_sales  \\\n",
       "0          Women's Apparel           103.0         218         2245   \n",
       "1          Women's Apparel           103.0         163         1679   \n",
       "2    Men's Street Footwear            10.0         700         7000   \n",
       "3  Women's Street Footwear            15.0         575         8625   \n",
       "4  Women's Street Footwear            15.0         475         7125   \n",
       "\n",
       "   operating_profit sales_method  \\\n",
       "0              1257       Online   \n",
       "1               806       Online   \n",
       "2              3150       Outlet   \n",
       "3              3881       Outlet   \n",
       "4              3206       Outlet   \n",
       "\n",
       "                              unique_transaction_key  \n",
       "0  1128299_2021-06-17_Women's Apparel_Online_Orla...  \n",
       "1  1128299_2021-07-16_Women's Apparel_Online_New ...  \n",
       "2  1197831_2021-08-25_Men's Street Footwear_Outle...  \n",
       "3  1197831_2021-08-27_Women's Street Footwear_Out...  \n",
       "4  1197831_2021-08-21_Women's Street Footwear_Out...  "
      ]
     },
     "execution_count": 43,
     "metadata": {},
     "output_type": "execute_result"
    }
   ],
   "source": [
    "# Creat an expectation suite\n",
    "expectation_suite_name = 'expectation-trip-dataset'\n",
    "context.add_or_update_expectation_suite(expectation_suite_name)\n",
    "\n",
    "# Create a validator using above expectation suite\n",
    "validator = context.get_validator(\n",
    "    batch_request = batch_request,\n",
    "    expectation_suite_name = expectation_suite_name\n",
    ")\n",
    "\n",
    "# Check the validator\n",
    "validator.head()"
   ]
  },
  {
   "cell_type": "markdown",
   "id": "7fe77a45",
   "metadata": {},
   "source": [
    "## A. Expectations"
   ]
  },
  {
   "cell_type": "markdown",
   "id": "1c3feaa8",
   "metadata": {},
   "source": [
    "### A.1. Unique"
   ]
  },
  {
   "cell_type": "code",
   "execution_count": 44,
   "id": "711ce137",
   "metadata": {},
   "outputs": [
    {
     "data": {
      "application/vnd.jupyter.widget-view+json": {
       "model_id": "527e03de2340423cb8fcfdc3fa8a9ad2",
       "version_major": 2,
       "version_minor": 0
      },
      "text/plain": [
       "Calculating Metrics:   0%|          | 0/8 [00:00<?, ?it/s]"
      ]
     },
     "metadata": {},
     "output_type": "display_data"
    },
    {
     "data": {
      "text/plain": [
       "{\n",
       "  \"success\": true,\n",
       "  \"result\": {\n",
       "    \"element_count\": 9639,\n",
       "    \"unexpected_count\": 0,\n",
       "    \"unexpected_percent\": 0.0,\n",
       "    \"partial_unexpected_list\": [],\n",
       "    \"missing_count\": 0,\n",
       "    \"missing_percent\": 0.0,\n",
       "    \"unexpected_percent_total\": 0.0,\n",
       "    \"unexpected_percent_nonmissing\": 0.0\n",
       "  },\n",
       "  \"meta\": {},\n",
       "  \"exception_info\": {\n",
       "    \"raised_exception\": false,\n",
       "    \"exception_traceback\": null,\n",
       "    \"exception_message\": null\n",
       "  }\n",
       "}"
      ]
     },
     "execution_count": 44,
     "metadata": {},
     "output_type": "execute_result"
    }
   ],
   "source": [
    "# Expectation 1: Check if the column 'retailer_id' is unique\n",
    "\n",
    "validator.expect_column_values_to_be_unique('unique_transaction_key')"
   ]
  },
  {
   "cell_type": "markdown",
   "id": "43ec9898",
   "metadata": {},
   "source": [
    "### A.2. Between Min Value and Max Value"
   ]
  },
  {
   "cell_type": "code",
   "execution_count": 45,
   "id": "64953145",
   "metadata": {},
   "outputs": [
    {
     "data": {
      "application/vnd.jupyter.widget-view+json": {
       "model_id": "65d2f362d2a5455dbef1cbb0c364237d",
       "version_major": 2,
       "version_minor": 0
      },
      "text/plain": [
       "Calculating Metrics:   0%|          | 0/8 [00:00<?, ?it/s]"
      ]
     },
     "metadata": {},
     "output_type": "display_data"
    },
    {
     "data": {
      "text/plain": [
       "{\n",
       "  \"success\": true,\n",
       "  \"result\": {\n",
       "    \"element_count\": 9639,\n",
       "    \"unexpected_count\": 0,\n",
       "    \"unexpected_percent\": 0.0,\n",
       "    \"partial_unexpected_list\": [],\n",
       "    \"missing_count\": 0,\n",
       "    \"missing_percent\": 0.0,\n",
       "    \"unexpected_percent_total\": 0.0,\n",
       "    \"unexpected_percent_nonmissing\": 0.0\n",
       "  },\n",
       "  \"meta\": {},\n",
       "  \"exception_info\": {\n",
       "    \"raised_exception\": false,\n",
       "    \"exception_traceback\": null,\n",
       "    \"exception_message\": null\n",
       "  }\n",
       "}"
      ]
     },
     "execution_count": 45,
     "metadata": {},
     "output_type": "execute_result"
    }
   ],
   "source": [
    "# Expectation 2: Check if the column 'units_sold' is must be beyween 5 and 200 \n",
    "\n",
    "validator.expect_column_values_to_be_between(column='price_per_unit', min_value=5, max_value=200)"
   ]
  },
  {
   "cell_type": "markdown",
   "id": "4bf8b259",
   "metadata": {},
   "source": [
    "### A.3. Be in a Set"
   ]
  },
  {
   "cell_type": "code",
   "execution_count": 46,
   "id": "64d254de",
   "metadata": {},
   "outputs": [
    {
     "data": {
      "application/vnd.jupyter.widget-view+json": {
       "model_id": "38cace379b6d4bc7be02176d355f429a",
       "version_major": 2,
       "version_minor": 0
      },
      "text/plain": [
       "Calculating Metrics:   0%|          | 0/8 [00:00<?, ?it/s]"
      ]
     },
     "metadata": {},
     "output_type": "display_data"
    },
    {
     "data": {
      "text/plain": [
       "{\n",
       "  \"success\": true,\n",
       "  \"result\": {\n",
       "    \"element_count\": 9639,\n",
       "    \"unexpected_count\": 0,\n",
       "    \"unexpected_percent\": 0.0,\n",
       "    \"partial_unexpected_list\": [],\n",
       "    \"missing_count\": 0,\n",
       "    \"missing_percent\": 0.0,\n",
       "    \"unexpected_percent_total\": 0.0,\n",
       "    \"unexpected_percent_nonmissing\": 0.0\n",
       "  },\n",
       "  \"meta\": {},\n",
       "  \"exception_info\": {\n",
       "    \"raised_exception\": false,\n",
       "    \"exception_traceback\": null,\n",
       "    \"exception_message\": null\n",
       "  }\n",
       "}"
      ]
     },
     "execution_count": 46,
     "metadata": {},
     "output_type": "execute_result"
    }
   ],
   "source": [
    "# Expectation 3: Check if the column 'city' is in set of the US city\n",
    "\n",
    "us_states = [\n",
    "    'Alabama', 'Alaska', 'Arizona', 'Arkansas', 'California', 'Colorado', 'Connecticut', 'Delaware', 'Florida', \n",
    "    'Georgia', 'Hawaii', 'Idaho', 'Illinois', 'Indiana', 'Iowa', 'Kansas', 'Kentucky', 'Louisiana', 'Maine', \n",
    "    'Maryland', 'Massachusetts', 'Michigan', 'Minnesota', 'Mississippi', 'Missouri', 'Montana', 'Nebraska', \n",
    "    'Nevada', 'New Hampshire', 'New Jersey', 'New Mexico', 'New York', 'North Carolina', 'North Dakota', \n",
    "    'Ohio', 'Oklahoma', 'Oregon', 'Pennsylvania', 'Rhode Island', 'South Carolina', 'South Dakota', 'Tennessee', \n",
    "    'Texas', 'Utah', 'Vermont', 'Virginia', 'Washington', 'West Virginia', 'Wisconsin', 'Wyoming'\n",
    "]\n",
    "\n",
    "validator.expect_column_values_to_be_in_set('state', us_states)"
   ]
  },
  {
   "cell_type": "markdown",
   "id": "ce054c2b",
   "metadata": {},
   "source": [
    "### A.4. Be in a Type List"
   ]
  },
  {
   "cell_type": "code",
   "execution_count": 47,
   "id": "06072d54",
   "metadata": {},
   "outputs": [
    {
     "data": {
      "application/vnd.jupyter.widget-view+json": {
       "model_id": "3b05f101b376453ab20bfad8f2d7db5f",
       "version_major": 2,
       "version_minor": 0
      },
      "text/plain": [
       "Calculating Metrics:   0%|          | 0/1 [00:00<?, ?it/s]"
      ]
     },
     "metadata": {},
     "output_type": "display_data"
    },
    {
     "data": {
      "text/plain": [
       "{\n",
       "  \"success\": true,\n",
       "  \"result\": {\n",
       "    \"observed_value\": \"int64\"\n",
       "  },\n",
       "  \"meta\": {},\n",
       "  \"exception_info\": {\n",
       "    \"raised_exception\": false,\n",
       "    \"exception_traceback\": null,\n",
       "    \"exception_message\": null\n",
       "  }\n",
       "}"
      ]
     },
     "execution_count": 47,
     "metadata": {},
     "output_type": "execute_result"
    }
   ],
   "source": [
    "# Expectation 4 : Column `operating_profit` must in form of integer or float\n",
    "\n",
    "validator.expect_column_values_to_be_in_type_list('operating_profit', ['int', 'int64', 'float']) # Karena perubahan kolom menggunakan pd.to_numeric(), saya tambahkan pengecekan int64"
   ]
  },
  {
   "cell_type": "markdown",
   "id": "265709f3",
   "metadata": {},
   "source": [
    "### A.5. Match Regex"
   ]
  },
  {
   "cell_type": "code",
   "execution_count": 48,
   "id": "3da9fd71",
   "metadata": {},
   "outputs": [
    {
     "data": {
      "application/vnd.jupyter.widget-view+json": {
       "model_id": "85e56228c7c84a649adf2649828a4734",
       "version_major": 2,
       "version_minor": 0
      },
      "text/plain": [
       "Calculating Metrics:   0%|          | 0/8 [00:00<?, ?it/s]"
      ]
     },
     "metadata": {},
     "output_type": "display_data"
    },
    {
     "data": {
      "text/plain": [
       "{\n",
       "  \"success\": true,\n",
       "  \"result\": {\n",
       "    \"element_count\": 9639,\n",
       "    \"unexpected_count\": 0,\n",
       "    \"unexpected_percent\": 0.0,\n",
       "    \"partial_unexpected_list\": [],\n",
       "    \"missing_count\": 0,\n",
       "    \"missing_percent\": 0.0,\n",
       "    \"unexpected_percent_total\": 0.0,\n",
       "    \"unexpected_percent_nonmissing\": 0.0\n",
       "  },\n",
       "  \"meta\": {},\n",
       "  \"exception_info\": {\n",
       "    \"raised_exception\": false,\n",
       "    \"exception_traceback\": null,\n",
       "    \"exception_message\": null\n",
       "  }\n",
       "}"
      ]
     },
     "execution_count": 48,
     "metadata": {},
     "output_type": "execute_result"
    }
   ],
   "source": [
    "# Expectation 5 : Column `invoice_date` must in a YYYY-MM-DD format\n",
    "\n",
    "validator.expect_column_values_to_match_strftime_format('invoice_date', '%Y-%m-%d')"
   ]
  },
  {
   "cell_type": "markdown",
   "id": "6059e630",
   "metadata": {},
   "source": [
    "### A.6. Column 'total_sales' Greater Than 'operating_profit'"
   ]
  },
  {
   "cell_type": "code",
   "execution_count": 49,
   "id": "becd9d1d",
   "metadata": {},
   "outputs": [
    {
     "data": {
      "application/vnd.jupyter.widget-view+json": {
       "model_id": "c1e416f8b49242b1afc16d68e6c960fd",
       "version_major": 2,
       "version_minor": 0
      },
      "text/plain": [
       "Calculating Metrics:   0%|          | 0/7 [00:00<?, ?it/s]"
      ]
     },
     "metadata": {},
     "output_type": "display_data"
    },
    {
     "data": {
      "text/plain": [
       "{\n",
       "  \"success\": true,\n",
       "  \"result\": {\n",
       "    \"element_count\": 9639,\n",
       "    \"unexpected_count\": 0,\n",
       "    \"unexpected_percent\": 0.0,\n",
       "    \"partial_unexpected_list\": [],\n",
       "    \"missing_count\": 0,\n",
       "    \"missing_percent\": 0.0,\n",
       "    \"unexpected_percent_total\": 0.0,\n",
       "    \"unexpected_percent_nonmissing\": 0.0\n",
       "  },\n",
       "  \"meta\": {},\n",
       "  \"exception_info\": {\n",
       "    \"raised_exception\": false,\n",
       "    \"exception_traceback\": null,\n",
       "    \"exception_message\": null\n",
       "  }\n",
       "}"
      ]
     },
     "execution_count": 49,
     "metadata": {},
     "output_type": "execute_result"
    }
   ],
   "source": [
    "# # Expectation 6 : Column `total_sales` must be greater or equal than column `operating_profit`\n",
    "\n",
    "validator.expect_column_pair_values_A_to_be_greater_than_B('total_sales', 'operating_profit', True)"
   ]
  },
  {
   "cell_type": "markdown",
   "id": "edb13909",
   "metadata": {},
   "source": [
    "### A.7. Column 'retailer' Character Length Between 5 and 100"
   ]
  },
  {
   "cell_type": "code",
   "execution_count": 50,
   "id": "9b36cee7",
   "metadata": {},
   "outputs": [
    {
     "data": {
      "application/vnd.jupyter.widget-view+json": {
       "model_id": "ff8f69b4b32241b09e9c0880ff88c1e0",
       "version_major": 2,
       "version_minor": 0
      },
      "text/plain": [
       "Calculating Metrics:   0%|          | 0/9 [00:00<?, ?it/s]"
      ]
     },
     "metadata": {},
     "output_type": "display_data"
    },
    {
     "data": {
      "text/plain": [
       "{\n",
       "  \"success\": true,\n",
       "  \"result\": {\n",
       "    \"element_count\": 9639,\n",
       "    \"unexpected_count\": 0,\n",
       "    \"unexpected_percent\": 0.0,\n",
       "    \"partial_unexpected_list\": [],\n",
       "    \"missing_count\": 0,\n",
       "    \"missing_percent\": 0.0,\n",
       "    \"unexpected_percent_total\": 0.0,\n",
       "    \"unexpected_percent_nonmissing\": 0.0\n",
       "  },\n",
       "  \"meta\": {},\n",
       "  \"exception_info\": {\n",
       "    \"raised_exception\": false,\n",
       "    \"exception_traceback\": null,\n",
       "    \"exception_message\": null\n",
       "  }\n",
       "}"
      ]
     },
     "execution_count": 50,
     "metadata": {},
     "output_type": "execute_result"
    }
   ],
   "source": [
    "# Expectations 7 : Column `retailer` must be between 5 and 100 characters\n",
    "\n",
    "validator.expect_column_value_lengths_to_be_between('retailer', min_value=5, max_value=100)"
   ]
  },
  {
   "cell_type": "markdown",
   "id": "eeee1aa2",
   "metadata": {},
   "source": [
    "### A.8. Save Expectations into Expectation Suite"
   ]
  },
  {
   "cell_type": "code",
   "execution_count": 51,
   "id": "6d796fee",
   "metadata": {},
   "outputs": [],
   "source": [
    "# Save into Expectation Suite\n",
    "\n",
    "validator.save_expectation_suite(discard_failed_expectations=False)"
   ]
  },
  {
   "cell_type": "markdown",
   "id": "8c689699",
   "metadata": {},
   "source": [
    "## B. Checkpoints"
   ]
  },
  {
   "cell_type": "code",
   "execution_count": 52,
   "id": "d9f2031d",
   "metadata": {},
   "outputs": [],
   "source": [
    "# Create a checkpoint\n",
    "\n",
    "checkpoint_1 = context.add_or_update_checkpoint(\n",
    "    name = 'checkpoint_1',\n",
    "    validator = validator,\n",
    ")"
   ]
  },
  {
   "cell_type": "code",
   "execution_count": 53,
   "id": "08b9a1f2",
   "metadata": {},
   "outputs": [
    {
     "data": {
      "application/vnd.jupyter.widget-view+json": {
       "model_id": "2aaee20c1c1e4682a4c038694fa00dda",
       "version_major": 2,
       "version_minor": 0
      },
      "text/plain": [
       "Calculating Metrics:   0%|          | 0/45 [00:00<?, ?it/s]"
      ]
     },
     "metadata": {},
     "output_type": "display_data"
    }
   ],
   "source": [
    "# Run a checkpoint\n",
    "\n",
    "checkpoint_result = checkpoint_1.run()"
   ]
  },
  {
   "cell_type": "markdown",
   "id": "2939c069",
   "metadata": {},
   "source": [
    "## C. Create Data Docs"
   ]
  },
  {
   "cell_type": "code",
   "execution_count": 54,
   "id": "7ead4eeb",
   "metadata": {},
   "outputs": [
    {
     "data": {
      "text/plain": [
       "{'local_site': 'file://c:\\\\Users\\\\user\\\\Documents\\\\GitHub\\\\p2-ftds025-hck-m3-ray-dion\\\\gx\\\\uncommitted/data_docs/local_site/index.html'}"
      ]
     },
     "execution_count": 54,
     "metadata": {},
     "output_type": "execute_result"
    }
   ],
   "source": [
    "# Build data docs\n",
    "\n",
    "context.build_data_docs()"
   ]
  }
 ],
 "metadata": {
  "kernelspec": {
   "display_name": "experience",
   "language": "python",
   "name": "python3"
  },
  "language_info": {
   "codemirror_mode": {
    "name": "ipython",
    "version": 3
   },
   "file_extension": ".py",
   "mimetype": "text/x-python",
   "name": "python",
   "nbconvert_exporter": "python",
   "pygments_lexer": "ipython3",
   "version": "3.10.4"
  }
 },
 "nbformat": 4,
 "nbformat_minor": 5
}
